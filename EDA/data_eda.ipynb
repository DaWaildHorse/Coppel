{
  "cells": [
    {
      "cell_type": "markdown",
      "metadata": {
        "id": "lhGglylUWH-F"
      },
      "source": [
        "### Imports and Loading Data"
      ]
    },
    {
      "cell_type": "code",
      "execution_count": 8,
      "metadata": {
        "colab": {
          "base_uri": "https://localhost:8080/"
        },
        "id": "nwqpm0TAROxE",
        "outputId": "151690a6-8a66-4f89-cd7b-64dd3c094c9f"
      },
      "outputs": [],
      "source": [
        "import pandas as pd\n",
        "import numpy as np\n",
        "import matplotlib.pyplot as plt\n",
        "import seaborn as sns\n"
      ]
    },
    {
      "cell_type": "code",
      "execution_count": 9,
      "metadata": {
        "id": "Jd8Bfjk-RT4p"
      },
      "outputs": [],
      "source": [
        "df = pd.read_csv('sample_data.csv')"
      ]
    },
    {
      "cell_type": "code",
      "execution_count": 6,
      "metadata": {
        "colab": {
          "base_uri": "https://localhost:8080/",
          "height": 224
        },
        "id": "molDtWhdRYCl",
        "outputId": "bb889215-2548-4084-8ba1-1a3d639a3561"
      },
      "outputs": [
        {
          "name": "stdout",
          "output_type": "stream",
          "text": [
            "Shape: (1851075, 12)\n"
          ]
        },
        {
          "data": {
            "text/html": [
              "<div>\n",
              "<style scoped>\n",
              "    .dataframe tbody tr th:only-of-type {\n",
              "        vertical-align: middle;\n",
              "    }\n",
              "\n",
              "    .dataframe tbody tr th {\n",
              "        vertical-align: top;\n",
              "    }\n",
              "\n",
              "    .dataframe thead th {\n",
              "        text-align: right;\n",
              "    }\n",
              "</style>\n",
              "<table border=\"1\" class=\"dataframe\">\n",
              "  <thead>\n",
              "    <tr style=\"text-align: right;\">\n",
              "      <th></th>\n",
              "      <th>Fecha</th>\n",
              "      <th>Segmento</th>\n",
              "      <th>hora_llegada</th>\n",
              "      <th>hora_llamado</th>\n",
              "      <th>hora_salida</th>\n",
              "      <th>caja</th>\n",
              "      <th>tienda</th>\n",
              "      <th>status</th>\n",
              "      <th>estado</th>\n",
              "      <th>tiempo_espera</th>\n",
              "      <th>tiempo_atencion</th>\n",
              "      <th>tiempo_total</th>\n",
              "    </tr>\n",
              "  </thead>\n",
              "  <tbody>\n",
              "    <tr>\n",
              "      <th>0</th>\n",
              "      <td>2023-11-10</td>\n",
              "      <td>retail</td>\n",
              "      <td>0.796926</td>\n",
              "      <td>0.800271</td>\n",
              "      <td>0.805201</td>\n",
              "      <td>caja_c</td>\n",
              "      <td>Tienda_AH</td>\n",
              "      <td>Atendido</td>\n",
              "      <td>Baja California</td>\n",
              "      <td>0.003345</td>\n",
              "      <td>0.004931</td>\n",
              "      <td>0.008275</td>\n",
              "    </tr>\n",
              "    <tr>\n",
              "      <th>1</th>\n",
              "      <td>2023-02-15</td>\n",
              "      <td>retail</td>\n",
              "      <td>0.518188</td>\n",
              "      <td>0.521220</td>\n",
              "      <td>0.531093</td>\n",
              "      <td>caja_b</td>\n",
              "      <td>Tienda_AH</td>\n",
              "      <td>Atendido</td>\n",
              "      <td>Baja California</td>\n",
              "      <td>0.003032</td>\n",
              "      <td>0.009873</td>\n",
              "      <td>0.012905</td>\n",
              "    </tr>\n",
              "    <tr>\n",
              "      <th>2</th>\n",
              "      <td>2023-11-22</td>\n",
              "      <td>banco</td>\n",
              "      <td>0.741174</td>\n",
              "      <td>0.742771</td>\n",
              "      <td>0.746590</td>\n",
              "      <td>ventanilla_c</td>\n",
              "      <td>Tienda_AH</td>\n",
              "      <td>Atendido</td>\n",
              "      <td>Baja California</td>\n",
              "      <td>0.001597</td>\n",
              "      <td>0.003819</td>\n",
              "      <td>0.005417</td>\n",
              "    </tr>\n",
              "    <tr>\n",
              "      <th>3</th>\n",
              "      <td>2023-06-05</td>\n",
              "      <td>banco</td>\n",
              "      <td>0.516845</td>\n",
              "      <td>0.517470</td>\n",
              "      <td>0.518720</td>\n",
              "      <td>ventanilla_a</td>\n",
              "      <td>Tienda_AH</td>\n",
              "      <td>Atendido</td>\n",
              "      <td>Baja California</td>\n",
              "      <td>0.000625</td>\n",
              "      <td>0.001250</td>\n",
              "      <td>0.001875</td>\n",
              "    </tr>\n",
              "    <tr>\n",
              "      <th>4</th>\n",
              "      <td>2023-03-04</td>\n",
              "      <td>banco</td>\n",
              "      <td>0.783315</td>\n",
              "      <td>0.785606</td>\n",
              "      <td>0.786463</td>\n",
              "      <td>ventanilla_c</td>\n",
              "      <td>Tienda_AH</td>\n",
              "      <td>Atendido</td>\n",
              "      <td>Baja California</td>\n",
              "      <td>0.002292</td>\n",
              "      <td>0.000856</td>\n",
              "      <td>0.003148</td>\n",
              "    </tr>\n",
              "  </tbody>\n",
              "</table>\n",
              "</div>"
            ],
            "text/plain": [
              "        Fecha Segmento  hora_llegada  hora_llamado  hora_salida          caja  \\\n",
              "0  2023-11-10   retail      0.796926      0.800271     0.805201        caja_c   \n",
              "1  2023-02-15   retail      0.518188      0.521220     0.531093        caja_b   \n",
              "2  2023-11-22    banco      0.741174      0.742771     0.746590  ventanilla_c   \n",
              "3  2023-06-05    banco      0.516845      0.517470     0.518720  ventanilla_a   \n",
              "4  2023-03-04    banco      0.783315      0.785606     0.786463  ventanilla_c   \n",
              "\n",
              "      tienda    status           estado  tiempo_espera  tiempo_atencion  \\\n",
              "0  Tienda_AH  Atendido  Baja California       0.003345         0.004931   \n",
              "1  Tienda_AH  Atendido  Baja California       0.003032         0.009873   \n",
              "2  Tienda_AH  Atendido  Baja California       0.001597         0.003819   \n",
              "3  Tienda_AH  Atendido  Baja California       0.000625         0.001250   \n",
              "4  Tienda_AH  Atendido  Baja California       0.002292         0.000856   \n",
              "\n",
              "   tiempo_total  \n",
              "0      0.008275  \n",
              "1      0.012905  \n",
              "2      0.005417  \n",
              "3      0.001875  \n",
              "4      0.003148  "
            ]
          },
          "execution_count": 6,
          "metadata": {},
          "output_type": "execute_result"
        }
      ],
      "source": [
        "print(f'Shape: {df.shape}')\n",
        "df.head()"
      ]
    },
    {
      "cell_type": "markdown",
      "metadata": {
        "id": "0uGWgKAERnnB"
      },
      "source": [
        "### Data Cleaning"
      ]
    },
    {
      "cell_type": "code",
      "execution_count": 50,
      "metadata": {
        "colab": {
          "base_uri": "https://localhost:8080/",
          "height": 366
        },
        "id": "Roxkzd5hRYa5",
        "outputId": "858e361b-9b64-46cc-910a-46973cb702a1"
      },
      "outputs": [
        {
          "data": {
            "text/plain": [
              "Fecha              0\n",
              "Segmento           0\n",
              "hora_llegada       0\n",
              "hora_llamado       0\n",
              "hora_salida        0\n",
              "caja               0\n",
              "tienda             0\n",
              "status             0\n",
              "estado             0\n",
              "tiempo_espera      0\n",
              "tiempo_atencion    0\n",
              "tiempo_total       0\n",
              "dtype: int64"
            ]
          },
          "execution_count": 50,
          "metadata": {},
          "output_type": "execute_result"
        }
      ],
      "source": [
        "df.isnull().sum()"
      ]
    },
    {
      "cell_type": "code",
      "execution_count": 51,
      "metadata": {
        "colab": {
          "base_uri": "https://localhost:8080/"
        },
        "id": "Z9cQ-mXKRq0j",
        "outputId": "a85d79f6-0f95-4a75-a222-53590f5a6834"
      },
      "outputs": [
        {
          "name": "stdout",
          "output_type": "stream",
          "text": [
            "<class 'pandas.core.frame.DataFrame'>\n",
            "RangeIndex: 1851075 entries, 0 to 1851074\n",
            "Data columns (total 12 columns):\n",
            " #   Column           Dtype  \n",
            "---  ------           -----  \n",
            " 0   Fecha            object \n",
            " 1   Segmento         object \n",
            " 2   hora_llegada     float64\n",
            " 3   hora_llamado     float64\n",
            " 4   hora_salida      float64\n",
            " 5   caja             object \n",
            " 6   tienda           object \n",
            " 7   status           object \n",
            " 8   estado           object \n",
            " 9   tiempo_espera    float64\n",
            " 10  tiempo_atencion  float64\n",
            " 11  tiempo_total     float64\n",
            "dtypes: float64(6), object(6)\n",
            "memory usage: 169.5+ MB\n"
          ]
        }
      ],
      "source": [
        "df.info()"
      ]
    },
    {
      "cell_type": "code",
      "execution_count": 52,
      "metadata": {
        "colab": {
          "base_uri": "https://localhost:8080/",
          "height": 300
        },
        "id": "cqb9CFaZcWlJ",
        "outputId": "e67c7653-979a-4c14-9bac-fc926232c4d8"
      },
      "outputs": [
        {
          "data": {
            "text/html": [
              "<div>\n",
              "<style scoped>\n",
              "    .dataframe tbody tr th:only-of-type {\n",
              "        vertical-align: middle;\n",
              "    }\n",
              "\n",
              "    .dataframe tbody tr th {\n",
              "        vertical-align: top;\n",
              "    }\n",
              "\n",
              "    .dataframe thead th {\n",
              "        text-align: right;\n",
              "    }\n",
              "</style>\n",
              "<table border=\"1\" class=\"dataframe\">\n",
              "  <thead>\n",
              "    <tr style=\"text-align: right;\">\n",
              "      <th></th>\n",
              "      <th>hora_llegada</th>\n",
              "      <th>hora_llamado</th>\n",
              "      <th>hora_salida</th>\n",
              "      <th>tiempo_espera</th>\n",
              "      <th>tiempo_atencion</th>\n",
              "      <th>tiempo_total</th>\n",
              "    </tr>\n",
              "  </thead>\n",
              "  <tbody>\n",
              "    <tr>\n",
              "      <th>count</th>\n",
              "      <td>1.851075e+06</td>\n",
              "      <td>1.851075e+06</td>\n",
              "      <td>1.851075e+06</td>\n",
              "      <td>1.851075e+06</td>\n",
              "      <td>1.851075e+06</td>\n",
              "      <td>1.851075e+06</td>\n",
              "    </tr>\n",
              "    <tr>\n",
              "      <th>mean</th>\n",
              "      <td>5.988867e-01</td>\n",
              "      <td>6.039205e-01</td>\n",
              "      <td>6.062001e-01</td>\n",
              "      <td>5.033832e-03</td>\n",
              "      <td>2.279584e-03</td>\n",
              "      <td>7.313416e-03</td>\n",
              "    </tr>\n",
              "    <tr>\n",
              "      <th>std</th>\n",
              "      <td>1.195139e-01</td>\n",
              "      <td>1.192970e-01</td>\n",
              "      <td>1.200889e-01</td>\n",
              "      <td>1.142388e-02</td>\n",
              "      <td>1.645481e-02</td>\n",
              "      <td>1.998488e-02</td>\n",
              "    </tr>\n",
              "    <tr>\n",
              "      <th>min</th>\n",
              "      <td>5.490046e-02</td>\n",
              "      <td>2.301319e-01</td>\n",
              "      <td>1.289352e-03</td>\n",
              "      <td>-6.335417e-01</td>\n",
              "      <td>-8.891667e-01</td>\n",
              "      <td>-8.889120e-01</td>\n",
              "    </tr>\n",
              "    <tr>\n",
              "      <th>25%</th>\n",
              "      <td>4.971458e-01</td>\n",
              "      <td>5.024583e-01</td>\n",
              "      <td>5.048310e-01</td>\n",
              "      <td>2.777778e-04</td>\n",
              "      <td>8.333333e-04</td>\n",
              "      <td>2.129630e-03</td>\n",
              "    </tr>\n",
              "    <tr>\n",
              "      <th>50%</th>\n",
              "      <td>5.940440e-01</td>\n",
              "      <td>5.999815e-01</td>\n",
              "      <td>6.022269e-01</td>\n",
              "      <td>1.724537e-03</td>\n",
              "      <td>1.458333e-03</td>\n",
              "      <td>4.027778e-03</td>\n",
              "    </tr>\n",
              "    <tr>\n",
              "      <th>75%</th>\n",
              "      <td>6.980023e-01</td>\n",
              "      <td>7.028634e-01</td>\n",
              "      <td>7.052130e-01</td>\n",
              "      <td>5.219907e-03</td>\n",
              "      <td>2.615741e-03</td>\n",
              "      <td>8.009259e-03</td>\n",
              "    </tr>\n",
              "    <tr>\n",
              "      <th>max</th>\n",
              "      <td>9.643912e-01</td>\n",
              "      <td>9.456296e-01</td>\n",
              "      <td>1.000201e+00</td>\n",
              "      <td>4.227083e-01</td>\n",
              "      <td>5.930093e-01</td>\n",
              "      <td>5.947685e-01</td>\n",
              "    </tr>\n",
              "  </tbody>\n",
              "</table>\n",
              "</div>"
            ],
            "text/plain": [
              "       hora_llegada  hora_llamado   hora_salida  tiempo_espera  \\\n",
              "count  1.851075e+06  1.851075e+06  1.851075e+06   1.851075e+06   \n",
              "mean   5.988867e-01  6.039205e-01  6.062001e-01   5.033832e-03   \n",
              "std    1.195139e-01  1.192970e-01  1.200889e-01   1.142388e-02   \n",
              "min    5.490046e-02  2.301319e-01  1.289352e-03  -6.335417e-01   \n",
              "25%    4.971458e-01  5.024583e-01  5.048310e-01   2.777778e-04   \n",
              "50%    5.940440e-01  5.999815e-01  6.022269e-01   1.724537e-03   \n",
              "75%    6.980023e-01  7.028634e-01  7.052130e-01   5.219907e-03   \n",
              "max    9.643912e-01  9.456296e-01  1.000201e+00   4.227083e-01   \n",
              "\n",
              "       tiempo_atencion  tiempo_total  \n",
              "count     1.851075e+06  1.851075e+06  \n",
              "mean      2.279584e-03  7.313416e-03  \n",
              "std       1.645481e-02  1.998488e-02  \n",
              "min      -8.891667e-01 -8.889120e-01  \n",
              "25%       8.333333e-04  2.129630e-03  \n",
              "50%       1.458333e-03  4.027778e-03  \n",
              "75%       2.615741e-03  8.009259e-03  \n",
              "max       5.930093e-01  5.947685e-01  "
            ]
          },
          "execution_count": 52,
          "metadata": {},
          "output_type": "execute_result"
        }
      ],
      "source": [
        "df.describe()"
      ]
    },
    {
      "cell_type": "code",
      "execution_count": 53,
      "metadata": {
        "colab": {
          "base_uri": "https://localhost:8080/"
        },
        "id": "Z2sj_4BJcBYS",
        "outputId": "a6e8c245-d189-418b-c917-6eee03c40890"
      },
      "outputs": [
        {
          "name": "stdout",
          "output_type": "stream",
          "text": [
            "        Fecha Segmento  hora_llegada  hora_llamado  hora_salida          caja  \\\n",
            "0  2023-11-10   retail      0.796926      0.800271     0.805201        caja_c   \n",
            "1  2023-02-15   retail      0.518188      0.521220     0.531093        caja_b   \n",
            "2  2023-11-22    banco      0.741174      0.742771     0.746590  ventanilla_c   \n",
            "3  2023-06-05    banco      0.516845      0.517470     0.518720  ventanilla_a   \n",
            "4  2023-03-04    banco      0.783315      0.785606     0.786463  ventanilla_c   \n",
            "\n",
            "      tienda    status           estado  tiempo_espera  tiempo_atencion  \\\n",
            "0  Tienda_AH  Atendido  Baja California       0.003345         0.004931   \n",
            "1  Tienda_AH  Atendido  Baja California       0.003032         0.009873   \n",
            "2  Tienda_AH  Atendido  Baja California       0.001597         0.003819   \n",
            "3  Tienda_AH  Atendido  Baja California       0.000625         0.001250   \n",
            "4  Tienda_AH  Atendido  Baja California       0.002292         0.000856   \n",
            "\n",
            "   tiempo_total  \n",
            "0      0.008275  \n",
            "1      0.012905  \n",
            "2      0.005417  \n",
            "3      0.001875  \n",
            "4      0.003148  \n"
          ]
        }
      ],
      "source": [
        "print(df.head())"
      ]
    },
    {
      "cell_type": "code",
      "execution_count": 54,
      "metadata": {
        "colab": {
          "base_uri": "https://localhost:8080/",
          "height": 300
        },
        "id": "Rr7ZCLnTde31",
        "outputId": "a23e4c00-b46d-4220-f144-d26431878f17"
      },
      "outputs": [
        {
          "data": {
            "text/html": [
              "<div>\n",
              "<style scoped>\n",
              "    .dataframe tbody tr th:only-of-type {\n",
              "        vertical-align: middle;\n",
              "    }\n",
              "\n",
              "    .dataframe tbody tr th {\n",
              "        vertical-align: top;\n",
              "    }\n",
              "\n",
              "    .dataframe thead th {\n",
              "        text-align: right;\n",
              "    }\n",
              "</style>\n",
              "<table border=\"1\" class=\"dataframe\">\n",
              "  <thead>\n",
              "    <tr style=\"text-align: right;\">\n",
              "      <th></th>\n",
              "      <th>hora_llegada</th>\n",
              "      <th>hora_llamado</th>\n",
              "      <th>hora_salida</th>\n",
              "      <th>tiempo_espera</th>\n",
              "      <th>tiempo_atencion</th>\n",
              "      <th>tiempo_total</th>\n",
              "    </tr>\n",
              "  </thead>\n",
              "  <tbody>\n",
              "    <tr>\n",
              "      <th>count</th>\n",
              "      <td>1.851075e+06</td>\n",
              "      <td>1.851075e+06</td>\n",
              "      <td>1.851075e+06</td>\n",
              "      <td>1.851075e+06</td>\n",
              "      <td>1.851075e+06</td>\n",
              "      <td>1.851075e+06</td>\n",
              "    </tr>\n",
              "    <tr>\n",
              "      <th>mean</th>\n",
              "      <td>5.988867e-01</td>\n",
              "      <td>6.039205e-01</td>\n",
              "      <td>6.062001e-01</td>\n",
              "      <td>5.033832e-03</td>\n",
              "      <td>2.279584e-03</td>\n",
              "      <td>7.313416e-03</td>\n",
              "    </tr>\n",
              "    <tr>\n",
              "      <th>std</th>\n",
              "      <td>1.195139e-01</td>\n",
              "      <td>1.192970e-01</td>\n",
              "      <td>1.200889e-01</td>\n",
              "      <td>1.142388e-02</td>\n",
              "      <td>1.645481e-02</td>\n",
              "      <td>1.998488e-02</td>\n",
              "    </tr>\n",
              "    <tr>\n",
              "      <th>min</th>\n",
              "      <td>5.490046e-02</td>\n",
              "      <td>2.301319e-01</td>\n",
              "      <td>1.289352e-03</td>\n",
              "      <td>-6.335417e-01</td>\n",
              "      <td>-8.891667e-01</td>\n",
              "      <td>-8.889120e-01</td>\n",
              "    </tr>\n",
              "    <tr>\n",
              "      <th>25%</th>\n",
              "      <td>4.971458e-01</td>\n",
              "      <td>5.024583e-01</td>\n",
              "      <td>5.048310e-01</td>\n",
              "      <td>2.777778e-04</td>\n",
              "      <td>8.333333e-04</td>\n",
              "      <td>2.129630e-03</td>\n",
              "    </tr>\n",
              "    <tr>\n",
              "      <th>50%</th>\n",
              "      <td>5.940440e-01</td>\n",
              "      <td>5.999815e-01</td>\n",
              "      <td>6.022269e-01</td>\n",
              "      <td>1.724537e-03</td>\n",
              "      <td>1.458333e-03</td>\n",
              "      <td>4.027778e-03</td>\n",
              "    </tr>\n",
              "    <tr>\n",
              "      <th>75%</th>\n",
              "      <td>6.980023e-01</td>\n",
              "      <td>7.028634e-01</td>\n",
              "      <td>7.052130e-01</td>\n",
              "      <td>5.219907e-03</td>\n",
              "      <td>2.615741e-03</td>\n",
              "      <td>8.009259e-03</td>\n",
              "    </tr>\n",
              "    <tr>\n",
              "      <th>max</th>\n",
              "      <td>9.643912e-01</td>\n",
              "      <td>9.456296e-01</td>\n",
              "      <td>1.000201e+00</td>\n",
              "      <td>4.227083e-01</td>\n",
              "      <td>5.930093e-01</td>\n",
              "      <td>5.947685e-01</td>\n",
              "    </tr>\n",
              "  </tbody>\n",
              "</table>\n",
              "</div>"
            ],
            "text/plain": [
              "       hora_llegada  hora_llamado   hora_salida  tiempo_espera  \\\n",
              "count  1.851075e+06  1.851075e+06  1.851075e+06   1.851075e+06   \n",
              "mean   5.988867e-01  6.039205e-01  6.062001e-01   5.033832e-03   \n",
              "std    1.195139e-01  1.192970e-01  1.200889e-01   1.142388e-02   \n",
              "min    5.490046e-02  2.301319e-01  1.289352e-03  -6.335417e-01   \n",
              "25%    4.971458e-01  5.024583e-01  5.048310e-01   2.777778e-04   \n",
              "50%    5.940440e-01  5.999815e-01  6.022269e-01   1.724537e-03   \n",
              "75%    6.980023e-01  7.028634e-01  7.052130e-01   5.219907e-03   \n",
              "max    9.643912e-01  9.456296e-01  1.000201e+00   4.227083e-01   \n",
              "\n",
              "       tiempo_atencion  tiempo_total  \n",
              "count     1.851075e+06  1.851075e+06  \n",
              "mean      2.279584e-03  7.313416e-03  \n",
              "std       1.645481e-02  1.998488e-02  \n",
              "min      -8.891667e-01 -8.889120e-01  \n",
              "25%       8.333333e-04  2.129630e-03  \n",
              "50%       1.458333e-03  4.027778e-03  \n",
              "75%       2.615741e-03  8.009259e-03  \n",
              "max       5.930093e-01  5.947685e-01  "
            ]
          },
          "execution_count": 54,
          "metadata": {},
          "output_type": "execute_result"
        }
      ],
      "source": [
        "df.describe()"
      ]
    },
    {
      "cell_type": "code",
      "execution_count": 55,
      "metadata": {
        "colab": {
          "base_uri": "https://localhost:8080/",
          "height": 335
        },
        "id": "-XoRPgF6dkzI",
        "outputId": "e6999515-83c2-4721-c0b9-fc0154904253"
      },
      "outputs": [
        {
          "data": {
            "image/png": "[encoded data removed]",
            "text/plain": [
              "<Figure size 1500x500 with 3 Axes>"
            ]
          },
          "metadata": {},
          "output_type": "display_data"
        }
      ],
      "source": [
        "# Boxplot de hora de llegada, hora de salida y hora de llamado por tipo de tienda\n",
        "\n",
        "plt.figure(figsize=(15, 5))\n",
        "\n",
        "plt.subplot(1, 3, 1)\n",
        "sns.boxplot(x='Segmento', y='hora_llegada', data=df)\n",
        "plt.title('Boxplot de Hora de Llegada por Tipo de Tienda')\n",
        "\n",
        "plt.subplot(1, 3, 2)\n",
        "sns.boxplot(x='Segmento', y='hora_salida', data=df)\n",
        "plt.title('Boxplot de Hora de Salida por Tipo de Tienda')\n",
        "\n",
        "plt.subplot(1, 3, 3)\n",
        "sns.boxplot(x='Segmento', y='hora_llamado', data=df)\n",
        "plt.title('Boxplot de Hora de Llamado por Tipo de Tienda')\n",
        "\n",
        "plt.tight_layout()\n",
        "\n",
        "plt.show()\n",
        "\n",
        "\n",
        "\n",
        "\n"
      ]
    },
    {
      "cell_type": "code",
      "execution_count": 56,
      "metadata": {
        "colab": {
          "base_uri": "https://localhost:8080/",
          "height": 300
        },
        "id": "oE8_tddRZwnI",
        "outputId": "a05f6fac-9d2c-4557-d4ca-01b41788eed7"
      },
      "outputs": [
        {
          "data": {
            "text/html": [
              "<div>\n",
              "<style scoped>\n",
              "    .dataframe tbody tr th:only-of-type {\n",
              "        vertical-align: middle;\n",
              "    }\n",
              "\n",
              "    .dataframe tbody tr th {\n",
              "        vertical-align: top;\n",
              "    }\n",
              "\n",
              "    .dataframe thead th {\n",
              "        text-align: right;\n",
              "    }\n",
              "</style>\n",
              "<table border=\"1\" class=\"dataframe\">\n",
              "  <thead>\n",
              "    <tr style=\"text-align: right;\">\n",
              "      <th></th>\n",
              "      <th>hora_llegada</th>\n",
              "      <th>hora_llamado</th>\n",
              "      <th>hora_salida</th>\n",
              "      <th>tiempo_espera</th>\n",
              "      <th>tiempo_atencion</th>\n",
              "      <th>tiempo_total</th>\n",
              "    </tr>\n",
              "  </thead>\n",
              "  <tbody>\n",
              "    <tr>\n",
              "      <th>count</th>\n",
              "      <td>1.851075e+06</td>\n",
              "      <td>1.851075e+06</td>\n",
              "      <td>1.851075e+06</td>\n",
              "      <td>1.851075e+06</td>\n",
              "      <td>1.851075e+06</td>\n",
              "      <td>1.851075e+06</td>\n",
              "    </tr>\n",
              "    <tr>\n",
              "      <th>mean</th>\n",
              "      <td>5.988867e-01</td>\n",
              "      <td>6.039205e-01</td>\n",
              "      <td>6.062001e-01</td>\n",
              "      <td>5.033832e-03</td>\n",
              "      <td>2.279584e-03</td>\n",
              "      <td>7.313416e-03</td>\n",
              "    </tr>\n",
              "    <tr>\n",
              "      <th>std</th>\n",
              "      <td>1.195139e-01</td>\n",
              "      <td>1.192970e-01</td>\n",
              "      <td>1.200889e-01</td>\n",
              "      <td>1.142388e-02</td>\n",
              "      <td>1.645481e-02</td>\n",
              "      <td>1.998488e-02</td>\n",
              "    </tr>\n",
              "    <tr>\n",
              "      <th>min</th>\n",
              "      <td>5.490046e-02</td>\n",
              "      <td>2.301319e-01</td>\n",
              "      <td>1.289352e-03</td>\n",
              "      <td>-6.335417e-01</td>\n",
              "      <td>-8.891667e-01</td>\n",
              "      <td>-8.889120e-01</td>\n",
              "    </tr>\n",
              "    <tr>\n",
              "      <th>25%</th>\n",
              "      <td>4.971458e-01</td>\n",
              "      <td>5.024583e-01</td>\n",
              "      <td>5.048310e-01</td>\n",
              "      <td>2.777778e-04</td>\n",
              "      <td>8.333333e-04</td>\n",
              "      <td>2.129630e-03</td>\n",
              "    </tr>\n",
              "    <tr>\n",
              "      <th>50%</th>\n",
              "      <td>5.940440e-01</td>\n",
              "      <td>5.999815e-01</td>\n",
              "      <td>6.022269e-01</td>\n",
              "      <td>1.724537e-03</td>\n",
              "      <td>1.458333e-03</td>\n",
              "      <td>4.027778e-03</td>\n",
              "    </tr>\n",
              "    <tr>\n",
              "      <th>75%</th>\n",
              "      <td>6.980023e-01</td>\n",
              "      <td>7.028634e-01</td>\n",
              "      <td>7.052130e-01</td>\n",
              "      <td>5.219907e-03</td>\n",
              "      <td>2.615741e-03</td>\n",
              "      <td>8.009259e-03</td>\n",
              "    </tr>\n",
              "    <tr>\n",
              "      <th>max</th>\n",
              "      <td>9.643912e-01</td>\n",
              "      <td>9.456296e-01</td>\n",
              "      <td>1.000201e+00</td>\n",
              "      <td>4.227083e-01</td>\n",
              "      <td>5.930093e-01</td>\n",
              "      <td>5.947685e-01</td>\n",
              "    </tr>\n",
              "  </tbody>\n",
              "</table>\n",
              "</div>"
            ],
            "text/plain": [
              "       hora_llegada  hora_llamado   hora_salida  tiempo_espera  \\\n",
              "count  1.851075e+06  1.851075e+06  1.851075e+06   1.851075e+06   \n",
              "mean   5.988867e-01  6.039205e-01  6.062001e-01   5.033832e-03   \n",
              "std    1.195139e-01  1.192970e-01  1.200889e-01   1.142388e-02   \n",
              "min    5.490046e-02  2.301319e-01  1.289352e-03  -6.335417e-01   \n",
              "25%    4.971458e-01  5.024583e-01  5.048310e-01   2.777778e-04   \n",
              "50%    5.940440e-01  5.999815e-01  6.022269e-01   1.724537e-03   \n",
              "75%    6.980023e-01  7.028634e-01  7.052130e-01   5.219907e-03   \n",
              "max    9.643912e-01  9.456296e-01  1.000201e+00   4.227083e-01   \n",
              "\n",
              "       tiempo_atencion  tiempo_total  \n",
              "count     1.851075e+06  1.851075e+06  \n",
              "mean      2.279584e-03  7.313416e-03  \n",
              "std       1.645481e-02  1.998488e-02  \n",
              "min      -8.891667e-01 -8.889120e-01  \n",
              "25%       8.333333e-04  2.129630e-03  \n",
              "50%       1.458333e-03  4.027778e-03  \n",
              "75%       2.615741e-03  8.009259e-03  \n",
              "max       5.930093e-01  5.947685e-01  "
            ]
          },
          "execution_count": 56,
          "metadata": {},
          "output_type": "execute_result"
        }
      ],
      "source": [
        "df.describe()"
      ]
    },
    {
      "cell_type": "markdown",
      "metadata": {
        "id": "btITIuA9TB_O"
      },
      "source": [
        "### New Columns"
      ]
    },
    {
      "cell_type": "code",
      "execution_count": 57,
      "metadata": {
        "id": "943DWOJCSzPt"
      },
      "outputs": [],
      "source": [
        "df[\"tiempo_espera\"] = df[\"hora_llamado\"] - df[\"hora_llegada\"]\n",
        "df[\"tiempo_atencion\"] = df[\"hora_salida\"] - df[\"hora_llamado\"]\n",
        "df[\"tiempo_total\"] = df[\"hora_salida\"] - df[\"hora_llegada\"]\n",
        "\n"
      ]
    },
    {
      "cell_type": "code",
      "execution_count": 58,
      "metadata": {
        "colab": {
          "base_uri": "https://localhost:8080/",
          "height": 300
        },
        "id": "oFS6Y57bQAfJ",
        "outputId": "df8168e5-0061-4eec-fb0e-f11f30742824"
      },
      "outputs": [
        {
          "data": {
            "text/html": [
              "<div>\n",
              "<style scoped>\n",
              "    .dataframe tbody tr th:only-of-type {\n",
              "        vertical-align: middle;\n",
              "    }\n",
              "\n",
              "    .dataframe tbody tr th {\n",
              "        vertical-align: top;\n",
              "    }\n",
              "\n",
              "    .dataframe thead th {\n",
              "        text-align: right;\n",
              "    }\n",
              "</style>\n",
              "<table border=\"1\" class=\"dataframe\">\n",
              "  <thead>\n",
              "    <tr style=\"text-align: right;\">\n",
              "      <th></th>\n",
              "      <th>hora_llegada</th>\n",
              "      <th>hora_llamado</th>\n",
              "      <th>hora_salida</th>\n",
              "      <th>tiempo_espera</th>\n",
              "      <th>tiempo_atencion</th>\n",
              "      <th>tiempo_total</th>\n",
              "    </tr>\n",
              "  </thead>\n",
              "  <tbody>\n",
              "    <tr>\n",
              "      <th>count</th>\n",
              "      <td>1.851075e+06</td>\n",
              "      <td>1.851075e+06</td>\n",
              "      <td>1.851075e+06</td>\n",
              "      <td>1.851075e+06</td>\n",
              "      <td>1.851075e+06</td>\n",
              "      <td>1.851075e+06</td>\n",
              "    </tr>\n",
              "    <tr>\n",
              "      <th>mean</th>\n",
              "      <td>5.988867e-01</td>\n",
              "      <td>6.039205e-01</td>\n",
              "      <td>6.062001e-01</td>\n",
              "      <td>5.033832e-03</td>\n",
              "      <td>2.279584e-03</td>\n",
              "      <td>7.313416e-03</td>\n",
              "    </tr>\n",
              "    <tr>\n",
              "      <th>std</th>\n",
              "      <td>1.195139e-01</td>\n",
              "      <td>1.192970e-01</td>\n",
              "      <td>1.200889e-01</td>\n",
              "      <td>1.142388e-02</td>\n",
              "      <td>1.645481e-02</td>\n",
              "      <td>1.998488e-02</td>\n",
              "    </tr>\n",
              "    <tr>\n",
              "      <th>min</th>\n",
              "      <td>5.490046e-02</td>\n",
              "      <td>2.301319e-01</td>\n",
              "      <td>1.289352e-03</td>\n",
              "      <td>-6.335417e-01</td>\n",
              "      <td>-8.891667e-01</td>\n",
              "      <td>-8.889120e-01</td>\n",
              "    </tr>\n",
              "    <tr>\n",
              "      <th>25%</th>\n",
              "      <td>4.971458e-01</td>\n",
              "      <td>5.024583e-01</td>\n",
              "      <td>5.048310e-01</td>\n",
              "      <td>2.777778e-04</td>\n",
              "      <td>8.333333e-04</td>\n",
              "      <td>2.129630e-03</td>\n",
              "    </tr>\n",
              "    <tr>\n",
              "      <th>50%</th>\n",
              "      <td>5.940440e-01</td>\n",
              "      <td>5.999815e-01</td>\n",
              "      <td>6.022269e-01</td>\n",
              "      <td>1.724537e-03</td>\n",
              "      <td>1.458333e-03</td>\n",
              "      <td>4.027778e-03</td>\n",
              "    </tr>\n",
              "    <tr>\n",
              "      <th>75%</th>\n",
              "      <td>6.980023e-01</td>\n",
              "      <td>7.028634e-01</td>\n",
              "      <td>7.052130e-01</td>\n",
              "      <td>5.219907e-03</td>\n",
              "      <td>2.615741e-03</td>\n",
              "      <td>8.009259e-03</td>\n",
              "    </tr>\n",
              "    <tr>\n",
              "      <th>max</th>\n",
              "      <td>9.643912e-01</td>\n",
              "      <td>9.456296e-01</td>\n",
              "      <td>1.000201e+00</td>\n",
              "      <td>4.227083e-01</td>\n",
              "      <td>5.930093e-01</td>\n",
              "      <td>5.947685e-01</td>\n",
              "    </tr>\n",
              "  </tbody>\n",
              "</table>\n",
              "</div>"
            ],
            "text/plain": [
              "       hora_llegada  hora_llamado   hora_salida  tiempo_espera  \\\n",
              "count  1.851075e+06  1.851075e+06  1.851075e+06   1.851075e+06   \n",
              "mean   5.988867e-01  6.039205e-01  6.062001e-01   5.033832e-03   \n",
              "std    1.195139e-01  1.192970e-01  1.200889e-01   1.142388e-02   \n",
              "min    5.490046e-02  2.301319e-01  1.289352e-03  -6.335417e-01   \n",
              "25%    4.971458e-01  5.024583e-01  5.048310e-01   2.777778e-04   \n",
              "50%    5.940440e-01  5.999815e-01  6.022269e-01   1.724537e-03   \n",
              "75%    6.980023e-01  7.028634e-01  7.052130e-01   5.219907e-03   \n",
              "max    9.643912e-01  9.456296e-01  1.000201e+00   4.227083e-01   \n",
              "\n",
              "       tiempo_atencion  tiempo_total  \n",
              "count     1.851075e+06  1.851075e+06  \n",
              "mean      2.279584e-03  7.313416e-03  \n",
              "std       1.645481e-02  1.998488e-02  \n",
              "min      -8.891667e-01 -8.889120e-01  \n",
              "25%       8.333333e-04  2.129630e-03  \n",
              "50%       1.458333e-03  4.027778e-03  \n",
              "75%       2.615741e-03  8.009259e-03  \n",
              "max       5.930093e-01  5.947685e-01  "
            ]
          },
          "execution_count": 58,
          "metadata": {},
          "output_type": "execute_result"
        }
      ],
      "source": [
        "df.describe()"
      ]
    },
    {
      "cell_type": "code",
      "execution_count": 59,
      "metadata": {
        "id": "DNTlvxzD4tLj"
      },
      "outputs": [],
      "source": [
        "# Asegurar que las columnas sean de tipo float\n",
        "df[\"hora_llegada\"] = pd.to_numeric(df[\"hora_llegada\"], errors='coerce')\n",
        "df[\"hora_llamado\"] = pd.to_numeric(df[\"hora_llamado\"], errors='coerce')\n",
        "df[\"hora_salida\"] = pd.to_numeric(df[\"hora_salida\"], errors='coerce')\n",
        "\n",
        "# Función para convertir decimal de día a HH:MM:SS\n",
        "def convertir_a_hora(decimal):\n",
        "    if pd.isna(decimal):  # Manejar valores nulos\n",
        "        return \"00:00:00\"\n",
        "    total_segundos = float(decimal) * 24 * 3600  # Convertir a segundos totales en el día\n",
        "    horas = int(total_segundos // 3600)  # Obtener horas\n",
        "    minutos = int((total_segundos % 3600) // 60)  # Obtener minutos\n",
        "    segundos = int(total_segundos % 60)  # Obtener segundos\n",
        "    return f\"{horas:02d}:{minutos:02d}:{segundos:02d}\"\n",
        "\n",
        "# Aplicar la conversión a las columnas necesarias\n",
        "df[\"hora_llegada\"] = df[\"hora_llegada\"].apply(convertir_a_hora)\n",
        "df[\"hora_llamado\"] = df[\"hora_llamado\"].apply(convertir_a_hora)\n",
        "df[\"hora_salida\"] = df[\"hora_salida\"].apply(convertir_a_hora)"
      ]
    },
    {
      "cell_type": "code",
      "execution_count": 60,
      "metadata": {
        "id": "dbAwhqt65apO"
      },
      "outputs": [],
      "source": [
        "# Asegurar que las columnas sean de tipo float\n",
        "df[\"tiempo_espera\"] = pd.to_numeric(df[\"tiempo_espera\"], errors='coerce')\n",
        "df[\"tiempo_atencion\"] = pd.to_numeric(df[\"tiempo_atencion\"], errors='coerce')\n",
        "df[\"tiempo_total\"] = pd.to_numeric(df[\"tiempo_total\"], errors='coerce')\n",
        "\n",
        "# Función para convertir decimal de día a HH:MM:SS\n",
        "def convertir_a_hora(decimal):\n",
        "    if pd.isna(decimal):  # Manejar valores nulos\n",
        "        return \"00:00:00\"\n",
        "    total_segundos = float(decimal) * 24 * 3600  # Convertir a segundos totales en el día\n",
        "    horas = int(total_segundos // 3600)  # Obtener horas\n",
        "    minutos = int((total_segundos % 3600) // 60)  # Obtener minutos\n",
        "    segundos = int(total_segundos % 60)  # Obtener segundos\n",
        "    return f\"{horas:02d}:{minutos:02d}:{segundos:02d}\"\n",
        "\n",
        "# Aplicar la conversión a las columnas necesarias\n",
        "df[\"tiempo_espera\"] = df[\"tiempo_espera\"].apply(convertir_a_hora)\n",
        "df[\"tiempo_atencion\"] = df[\"tiempo_atencion\"].apply(convertir_a_hora)\n",
        "df[\"tiempo_total\"] = df[\"tiempo_total\"].apply(convertir_a_hora)"
      ]
    },
    {
      "cell_type": "code",
      "execution_count": 61,
      "metadata": {
        "colab": {
          "base_uri": "https://localhost:8080/",
          "height": 4040
        },
        "id": "A6-XzfVe5Te9",
        "outputId": "54009685-757d-4f96-c91b-3464afc8b591"
      },
      "outputs": [
        {
          "name": "stdout",
          "output_type": "stream",
          "text": [
            "<class 'pandas.core.frame.DataFrame'>\n",
            "RangeIndex: 1851075 entries, 0 to 1851074\n",
            "Data columns (total 12 columns):\n",
            " #   Column           Dtype \n",
            "---  ------           ----- \n",
            " 0   Fecha            object\n",
            " 1   Segmento         object\n",
            " 2   hora_llegada     object\n",
            " 3   hora_llamado     object\n",
            " 4   hora_salida      object\n",
            " 5   caja             object\n",
            " 6   tienda           object\n",
            " 7   status           object\n",
            " 8   estado           object\n",
            " 9   tiempo_espera    object\n",
            " 10  tiempo_atencion  object\n",
            " 11  tiempo_total     object\n",
            "dtypes: object(12)\n",
            "memory usage: 169.5+ MB\n"
          ]
        }
      ],
      "source": [
        "df.info()"
      ]
    },
    {
      "cell_type": "code",
      "execution_count": 77,
      "metadata": {},
      "outputs": [
        {
          "data": {
            "text/plain": [
              "<bound method IndexOpsMixin.nunique of 0          Tienda_AH\n",
              "1          Tienda_AH\n",
              "2          Tienda_AH\n",
              "3          Tienda_AH\n",
              "4          Tienda_AH\n",
              "             ...    \n",
              "1851070     Tienda_S\n",
              "1851071     Tienda_S\n",
              "1851072     Tienda_S\n",
              "1851073     Tienda_S\n",
              "1851074     Tienda_S\n",
              "Name: tienda, Length: 1851075, dtype: object>"
            ]
          },
          "execution_count": 77,
          "metadata": {},
          "output_type": "execute_result"
        }
      ],
      "source": [
        "df[\"tienda\"].nunique"
      ]
    },
    {
      "cell_type": "code",
      "execution_count": 62,
      "metadata": {},
      "outputs": [
        {
          "data": {
            "text/html": [
              "<div>\n",
              "<style scoped>\n",
              "    .dataframe tbody tr th:only-of-type {\n",
              "        vertical-align: middle;\n",
              "    }\n",
              "\n",
              "    .dataframe tbody tr th {\n",
              "        vertical-align: top;\n",
              "    }\n",
              "\n",
              "    .dataframe thead th {\n",
              "        text-align: right;\n",
              "    }\n",
              "</style>\n",
              "<table border=\"1\" class=\"dataframe\">\n",
              "  <thead>\n",
              "    <tr style=\"text-align: right;\">\n",
              "      <th></th>\n",
              "      <th>Fecha</th>\n",
              "      <th>Segmento</th>\n",
              "      <th>hora_llegada</th>\n",
              "      <th>hora_llamado</th>\n",
              "      <th>hora_salida</th>\n",
              "      <th>caja</th>\n",
              "      <th>tienda</th>\n",
              "      <th>status</th>\n",
              "      <th>estado</th>\n",
              "      <th>tiempo_espera</th>\n",
              "      <th>tiempo_atencion</th>\n",
              "      <th>tiempo_total</th>\n",
              "    </tr>\n",
              "  </thead>\n",
              "  <tbody>\n",
              "    <tr>\n",
              "      <th>count</th>\n",
              "      <td>1851075</td>\n",
              "      <td>1851075</td>\n",
              "      <td>1851075</td>\n",
              "      <td>1851075</td>\n",
              "      <td>1851075</td>\n",
              "      <td>1851075</td>\n",
              "      <td>1851075</td>\n",
              "      <td>1851075</td>\n",
              "      <td>1851075</td>\n",
              "      <td>1851075</td>\n",
              "      <td>1851075</td>\n",
              "      <td>1851075</td>\n",
              "    </tr>\n",
              "    <tr>\n",
              "      <th>unique</th>\n",
              "      <td>396</td>\n",
              "      <td>3</td>\n",
              "      <td>45296</td>\n",
              "      <td>45342</td>\n",
              "      <td>45963</td>\n",
              "      <td>76</td>\n",
              "      <td>50</td>\n",
              "      <td>2</td>\n",
              "      <td>23</td>\n",
              "      <td>11269</td>\n",
              "      <td>7744</td>\n",
              "      <td>13468</td>\n",
              "    </tr>\n",
              "    <tr>\n",
              "      <th>top</th>\n",
              "      <td>2023-12-16</td>\n",
              "      <td>retail</td>\n",
              "      <td>10:03:27</td>\n",
              "      <td>13:48:17</td>\n",
              "      <td>12:19:55</td>\n",
              "      <td>ventanilla_d</td>\n",
              "      <td>Tienda_A</td>\n",
              "      <td>Atendido</td>\n",
              "      <td>Veracruz de Ignacio de la Llave</td>\n",
              "      <td>00:00:03</td>\n",
              "      <td>00:00:06</td>\n",
              "      <td>00:02:12</td>\n",
              "    </tr>\n",
              "    <tr>\n",
              "      <th>freq</th>\n",
              "      <td>7912</td>\n",
              "      <td>998573</td>\n",
              "      <td>116</td>\n",
              "      <td>89</td>\n",
              "      <td>87</td>\n",
              "      <td>162100</td>\n",
              "      <td>58184</td>\n",
              "      <td>1720566</td>\n",
              "      <td>179554</td>\n",
              "      <td>100581</td>\n",
              "      <td>15369</td>\n",
              "      <td>5922</td>\n",
              "    </tr>\n",
              "  </tbody>\n",
              "</table>\n",
              "</div>"
            ],
            "text/plain": [
              "             Fecha Segmento hora_llegada hora_llamado hora_salida  \\\n",
              "count      1851075  1851075      1851075      1851075     1851075   \n",
              "unique         396        3        45296        45342       45963   \n",
              "top     2023-12-16   retail     10:03:27     13:48:17    12:19:55   \n",
              "freq          7912   998573          116           89          87   \n",
              "\n",
              "                caja    tienda    status                           estado  \\\n",
              "count        1851075   1851075   1851075                          1851075   \n",
              "unique            76        50         2                               23   \n",
              "top     ventanilla_d  Tienda_A  Atendido  Veracruz de Ignacio de la Llave   \n",
              "freq          162100     58184   1720566                           179554   \n",
              "\n",
              "       tiempo_espera tiempo_atencion tiempo_total  \n",
              "count        1851075         1851075      1851075  \n",
              "unique         11269            7744        13468  \n",
              "top         00:00:03        00:00:06     00:02:12  \n",
              "freq          100581           15369         5922  "
            ]
          },
          "execution_count": 62,
          "metadata": {},
          "output_type": "execute_result"
        }
      ],
      "source": [
        "df.describe()"
      ]
    },
    {
      "cell_type": "markdown",
      "metadata": {
        "id": "YNJ1jDYhTDig"
      },
      "source": [
        "### Data Exploration"
      ]
    },
    {
      "cell_type": "code",
      "execution_count": 63,
      "metadata": {
        "id": "vfVIYxIcTAIs"
      },
      "outputs": [
        {
          "name": "stdout",
          "output_type": "stream",
          "text": [
            "\\Distribución por Segmento:\n",
            " Segmento\n",
            "retail        998573\n",
            "banco         737696\n",
            "afiliacion    114806\n",
            "Name: count, dtype: int64\n",
            "\\Distribución por Tienda:\n",
            " tienda\n",
            "Tienda_A     58184\n",
            "Tienda_M     55646\n",
            "Tienda_BD    51512\n",
            "Tienda_G     49828\n",
            "Tienda_AX    49492\n",
            "Tienda_B     47611\n",
            "Tienda_X     45727\n",
            "Tienda_H     45625\n",
            "Tienda_P     45279\n",
            "Tienda_BA    44541\n",
            "Tienda_AE    42339\n",
            "Tienda_AI    41904\n",
            "Tienda_AO    41817\n",
            "Tienda_AN    41184\n",
            "Tienda_AB    40442\n",
            "Tienda_AG    40290\n",
            "Tienda_AM    40030\n",
            "Tienda_AY    40022\n",
            "Tienda_AL    39953\n",
            "Tienda_V     39438\n",
            "Tienda_R     37650\n",
            "Tienda_T     37139\n",
            "Tienda_BE    37072\n",
            "Tienda_BC    37030\n",
            "Tienda_AZ    36674\n",
            "Tienda_I     36576\n",
            "Tienda_K     36008\n",
            "Tienda_AQ    35164\n",
            "Tienda_J     35043\n",
            "Tienda_AD    34454\n",
            "Tienda_AJ    33855\n",
            "Tienda_S     33260\n",
            "Tienda_Y     33094\n",
            "Tienda_Q     32796\n",
            "Tienda_AC    32357\n",
            "Tienda_E     32301\n",
            "Tienda_AF    31909\n",
            "Tienda_F     31509\n",
            "Tienda_Z     30773\n",
            "Tienda_U     30529\n",
            "Tienda_AP    30228\n",
            "Tienda_AH    30041\n",
            "Tienda_L     29587\n",
            "Tienda_BB    28744\n",
            "Tienda_O     28525\n",
            "Tienda_N     27833\n",
            "Tienda_AA    26953\n",
            "Tienda_AK    25240\n",
            "Tienda_D     22266\n",
            "Tienda_C     15601\n",
            "Name: count, dtype: int64\n",
            "\n",
            "Status Count:\n",
            " status\n",
            "Atendido    1720566\n",
            "Ausente      130509\n",
            "Name: count, dtype: int64\n",
            "\n",
            "State Count:\n",
            " estado\n",
            "Veracruz de Ignacio de la Llave    179554\n",
            "Puebla                             150135\n",
            "Sinaloa                            132988\n",
            "Nuevo León                         125880\n",
            "Ciudad de México                   118992\n",
            "México                             118988\n",
            "Chiapas                            118433\n",
            "Guanajuato                          93225\n",
            "Sonora                              83784\n",
            "Tabasco                             81287\n",
            "Querétaro                           79468\n",
            "Guerrero                            77362\n",
            "Zacatecas                           73702\n",
            "Chihuahua                           66175\n",
            "Yucatán                             55646\n",
            "Quintana Roo                        47611\n",
            "Oaxaca                              45727\n",
            "Michoacán de Ocampo                 42339\n",
            "Coahuila de Zaragoza                41817\n",
            "Morelos                             33094\n",
            "Baja California                     30041\n",
            "Durango                             29587\n",
            "Baja California Sur                 25240\n",
            "Name: count, dtype: int64\n"
          ]
        },
        {
          "name": "stderr",
          "output_type": "stream",
          "text": [
            "<>:2: SyntaxWarning: invalid escape sequence '\\D'\n",
            "<>:3: SyntaxWarning: invalid escape sequence '\\D'\n",
            "<>:2: SyntaxWarning: invalid escape sequence '\\D'\n",
            "<>:3: SyntaxWarning: invalid escape sequence '\\D'\n",
            "/tmp/ipykernel_38949/2666558735.py:2: SyntaxWarning: invalid escape sequence '\\D'\n",
            "  print(\"\\Distribución por Segmento:\\n\", df['Segmento'].value_counts())\n",
            "/tmp/ipykernel_38949/2666558735.py:3: SyntaxWarning: invalid escape sequence '\\D'\n",
            "  print(\"\\Distribución por Tienda:\\n\", df['tienda'].value_counts())\n"
          ]
        }
      ],
      "source": [
        "# Distribution of categorical variables\n",
        "print(\"\\Distribución por Segmento:\\n\", df['Segmento'].value_counts())\n",
        "print(\"\\Distribución por Tienda:\\n\", df['tienda'].value_counts())\n",
        "print(\"\\nStatus Count:\\n\", df['status'].value_counts())\n",
        "print(\"\\nState Count:\\n\", df['estado'].value_counts())"
      ]
    },
    {
      "cell_type": "markdown",
      "metadata": {
        "id": "BtHFA0xeWVep"
      },
      "source": [
        "#### Graphics"
      ]
    },
    {
      "cell_type": "code",
      "execution_count": 64,
      "metadata": {
        "id": "g5HGIPuvWpuS"
      },
      "outputs": [
        {
          "data": {
            "text/plain": [
              "Index(['Fecha', 'Segmento', 'hora_llegada', 'hora_llamado', 'hora_salida',\n",
              "       'caja', 'tienda', 'status', 'estado', 'tiempo_espera',\n",
              "       'tiempo_atencion', 'tiempo_total'],\n",
              "      dtype='object')"
            ]
          },
          "execution_count": 64,
          "metadata": {},
          "output_type": "execute_result"
        }
      ],
      "source": [
        "df.columns"
      ]
    },
    {
      "cell_type": "code",
      "execution_count": 65,
      "metadata": {
        "collapsed": true,
        "id": "LlcdUBL1VL1M"
      },
      "outputs": [
        {
          "data": {
            "image/png": "[encoded data removed]",
            "text/plain": [
              "<Figure size 640x480 with 1 Axes>"
            ]
          },
          "metadata": {},
          "output_type": "display_data"
        },
        {
          "data": {
            "image/png": "[encoded data removed]",
            "text/plain": [
              "<Figure size 640x480 with 1 Axes>"
            ]
          },
          "metadata": {},
          "output_type": "display_data"
        }
      ],
      "source": [
        "df['status'].value_counts().plot(kind='bar')\n",
        "plt.title('Status Distribution')\n",
        "plt.xlabel('Status')\n",
        "plt.show()\n",
        "\n",
        "df['Segmento'].value_counts().plot(kind='bar')\n",
        "plt.title('Segmento Distribution')\n",
        "plt.xlabel('Segmento')\n",
        "plt.show()"
      ]
    },
    {
      "cell_type": "markdown",
      "metadata": {
        "id": "Hpqp2SNjZ5Ml"
      },
      "source": [
        "### Data Sample"
      ]
    },
    {
      "cell_type": "code",
      "execution_count": 66,
      "metadata": {},
      "outputs": [
        {
          "name": "stdout",
          "output_type": "stream",
          "text": [
            "                             Estado  Number of Stores\n",
            "0                   Baja California                 1\n",
            "1               Baja California Sur                 1\n",
            "2                           Chiapas                 3\n",
            "3                         Chihuahua                 2\n",
            "4                  Ciudad de México                 3\n",
            "5              Coahuila de Zaragoza                 1\n",
            "6                           Durango                 1\n",
            "7                        Guanajuato                 3\n",
            "8                          Guerrero                 2\n",
            "9               Michoacán de Ocampo                 1\n",
            "10                          Morelos                 1\n",
            "11                           México                 3\n",
            "12                       Nuevo León                 4\n",
            "13                           Oaxaca                 1\n",
            "14                           Puebla                 4\n",
            "15                        Querétaro                 2\n",
            "16                     Quintana Roo                 1\n",
            "17                          Sinaloa                 4\n",
            "18                           Sonora                 3\n",
            "19                          Tabasco                 2\n",
            "20  Veracruz de Ignacio de la Llave                 4\n",
            "21                          Yucatán                 1\n",
            "22                        Zacatecas                 2\n"
          ]
        }
      ],
      "source": [
        "# Assuming your DataFrame is named df\n",
        "# Convert the relevant columns to proper data types\n",
        "df['tienda'] = df['tienda'].astype(str)\n",
        "df['estado'] = df['estado'].astype(str)\n",
        "\n",
        "# Group by 'estado' and count the unique 'tienda' values in each group\n",
        "store_count_by_estado = df.groupby('estado')['tienda'].nunique().reset_index()\n",
        "\n",
        "# Rename the columns for clarity\n",
        "store_count_by_estado.columns = ['Estado', 'Number of Stores']\n",
        "\n",
        "# Display the result\n",
        "print(store_count_by_estado)"
      ]
    },
    {
      "cell_type": "code",
      "execution_count": 72,
      "metadata": {},
      "outputs": [
        {
          "name": "stderr",
          "output_type": "stream",
          "text": [
            "/tmp/ipykernel_38949/1105057267.py:10: FutureWarning: \n",
            "\n",
            "Passing `palette` without assigning `hue` is deprecated and will be removed in v0.14.0. Assign the `x` variable to `hue` and set `legend=False` for the same effect.\n",
            "\n",
            "  sns.barplot(data=unique_stores_per_state, x='estado', y='unique_stores', palette='viridis')\n"
          ]
        },
        {
          "data": {
            "image/png": "[encoded data removed]",
            "text/plain": [
              "<Figure size 1000x600 with 1 Axes>"
            ]
          },
          "metadata": {},
          "output_type": "display_data"
        }
      ],
      "source": [
        "import pandas as pd\n",
        "import seaborn as sns\n",
        "import matplotlib.pyplot as plt\n",
        "# Step 1: Group by 'estado' and count unique stores\n",
        "unique_stores_per_state = df.groupby('estado')['tienda'].nunique().reset_index()\n",
        "unique_stores_per_state.columns = ['estado', 'unique_stores']  # Rename columns for clarity\n",
        "\n",
        "# Step 2: Plot the data for all states using Seaborn\n",
        "plt.figure(figsize=(10, 6))  # Adjust the figure size if needed\n",
        "sns.barplot(data=unique_stores_per_state, x='estado', y='unique_stores', palette='viridis')\n",
        "\n",
        "# Add labels and title\n",
        "plt.title('Number of Unique Stores per Estado', fontsize=16)\n",
        "plt.xlabel('Estado', fontsize=14)\n",
        "plt.ylabel('Number of Unique Stores', fontsize=14)\n",
        "\n",
        "# Rotate x-axis labels for better readability\n",
        "plt.xticks(rotation=90)\n",
        "\n",
        "# Show the plot\n",
        "plt.tight_layout()\n",
        "plt.show()"
      ]
    },
    {
      "cell_type": "code",
      "execution_count": 71,
      "metadata": {},
      "outputs": [
        {
          "name": "stdout",
          "output_type": "stream",
          "text": [
            "Number of stores in Puebla: 4\n"
          ]
        }
      ],
      "source": [
        "# Assuming your dataset is stored in a DataFrame called df\n",
        "# Example: df = pd.read_csv('your_dataset.csv')\n",
        "\n",
        "# Specify the state you're interested in\n",
        "specific_state = 'Puebla'  # Replace 'NombreDelEstado' with the actual state name\n",
        "\n",
        "# Filter the DataFrame for the specific state and count the number of stores\n",
        "num_stores = df[df['estado'] == specific_state]['tienda'].nunique()\n",
        "\n",
        "# Print the result\n",
        "print(f\"Number of stores in {specific_state}: {num_stores}\")"
      ]
    },
    {
      "cell_type": "code",
      "execution_count": 11,
      "metadata": {},
      "outputs": [
        {
          "name": "stdout",
          "output_type": "stream",
          "text": [
            "<class 'pandas.core.series.Series'>\n"
          ]
        }
      ],
      "source": [
        "import pandas as pd\n",
        "\n",
        "# Función para convertir horas decimales a hh:mm:ss\n",
        "def horas_a_hms(horas):\n",
        "    segundos_totales = round(horas * 3600)  # Convertir horas a segundos\n",
        "    h, m, s = segundos_totales // 3600, (segundos_totales % 3600) // 60, segundos_totales % 60\n",
        "    return f\"{h:02}:{m:02}:{s:02}\"\n",
        "\n",
        "# Calcular el promedio del tiempo de espera por estado\n",
        "promedios_por_estado = df.groupby('estado')['tiempo_espera'].mean()\n",
        "\n",
        "# Obtener los 5 estados con menor tiempo promedio\n",
        "top_5_estados_menores = promedios_por_estado.nsmallest(5)\n",
        "\n",
        "\n",
        "# Convertir los valores a formato hh:mm:ss\n",
        "top_5_estados_menores_hms = top_5_estados_menores.apply(horas_a_hms)\n",
        "\n",
        "# Mostrar los resultados\n",
        "print(top_5_estados_menores_hms)"
      ]
    }
  ],
  "metadata": {
    "colab": {
      "provenance": []
    },
    "kernelspec": {
      "display_name": "Python 3",
      "name": "python3"
    },
    "language_info": {
      "codemirror_mode": {
        "name": "ipython",
        "version": 3
      },
      "file_extension": ".py",
      "mimetype": "text/x-python",
      "name": "python",
      "nbconvert_exporter": "python",
      "pygments_lexer": "ipython3",
      "version": "3.13.2"
    }
  },
  "nbformat": 4,
  "nbformat_minor": 0
}
